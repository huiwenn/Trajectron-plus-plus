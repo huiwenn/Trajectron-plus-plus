{
 "cells": [
  {
   "cell_type": "code",
   "execution_count": 4,
   "id": "aba1a28f",
   "metadata": {},
   "outputs": [],
   "source": [
    "\n",
    "from torch import nn, optim, utils\n",
    "import numpy as np\n",
    "import os\n",
    "import time\n",
    "import dill\n",
    "import json\n",
    "import random\n",
    "import pathlib\n",
    "import warnings\n",
    "from tqdm import tqdm\n",
    "import visualization\n",
    "import evaluation\n",
    "import matplotlib.pyplot as plt\n",
    "from model.trajectron import Trajectron\n",
    "from model.model_registrar import ModelRegistrar\n",
    "from model.model_utils import cyclical_lr\n",
    "from model.dataset import EnvironmentDataset, collate\n",
    "from tensorboardX import SummaryWriter\n"
   ]
  },
  {
   "cell_type": "code",
   "execution_count": 5,
   "id": "8f62ada4",
   "metadata": {},
   "outputs": [
    {
     "name": "stdout",
     "output_type": "stream",
     "text": [
      "argo2city_austin_1.pkl\t      argo2city_pittsburgh_2.pkl\r\n",
      "argo2city_austin_2.pkl\t      argo2city_pittsburgh_3.pkl\r\n",
      "argo2city_austin_3.pkl\t      argo2city_pittsburgh_4.pkl\r\n",
      "argo2city_austin_4.pkl\t      argo2city_pittsburgh_5.pkl\r\n",
      "argo2city_austin_5.pkl\t      argo2city_pittsburgh_full.pkl\r\n",
      "argo2city_austin_full.pkl     argo2city_washington-dc_1.pkl\r\n",
      "argo2city_dearborn_1.pkl      argo2city_washington-dc_2.pkl\r\n",
      "argo2city_dearborn_2.pkl      argo2city_washington-dc_3.pkl\r\n",
      "argo2city_dearborn_3.pkl      argo2city_washington-dc_4.pkl\r\n",
      "argo2city_dearborn_4.pkl      argo2city_washington-dc_5.pkl\r\n",
      "argo2city_dearborn_5.pkl      argo2city_washington-dc_full.pkl\r\n",
      "argo2city_dearborn_full.pkl   austin_full.pkl\r\n",
      "argo2city_miami_1.pkl\t      austin_valenv.pkl\r\n",
      "argo2city_miami_2.pkl\t      dearborn_full.pkl\r\n",
      "argo2city_miami_3.pkl\t      dearborn_valenv.pkl\r\n",
      "argo2city_miami_4.pkl\t      miami_full.pkl\r\n",
      "argo2city_miami_5.pkl\t      miami_valenv.pkl\r\n",
      "argo2city_miami_full.pkl      palo-alto_full.pkl\r\n",
      "argo2city_palo-alto_1.pkl     palo-alto_valenv.pkl\r\n",
      "argo2city_palo-alto_2.pkl     pittsburgh_full.pkl\r\n",
      "argo2city_palo-alto_3.pkl     pittsburgh_valenv.pkl\r\n",
      "argo2city_palo-alto_4.pkl     valenv.pkl_valenv.pkl\r\n",
      "argo2city_palo-alto_5.pkl     washington-dc_full.pkl\r\n",
      "argo2city_palo-alto_full.pkl  washington-dc_valenv.pkl\r\n",
      "argo2city_pittsburgh_1.pkl\r\n"
     ]
    }
   ],
   "source": [
    "!ls /data/jedrzej/argo2city/processed/val/"
   ]
  },
  {
   "cell_type": "code",
   "execution_count": 41,
   "id": "8eaf205b",
   "metadata": {},
   "outputs": [],
   "source": [
    "data_dir = '/data/jedrzej/argo2city/processed'\n",
    "eval_data_dict = 'val/argo2city_austin_{}.pkl'\n",
    "\n",
    "conf = '../config/argo2.json'\n",
    "with open(conf, 'r', encoding='utf-8') as conf_json:\n",
    "    hyperparams = json.load(conf_json)"
   ]
  },
  {
   "cell_type": "code",
   "execution_count": 52,
   "id": "69438616",
   "metadata": {},
   "outputs": [
    {
     "name": "stderr",
     "output_type": "stream",
     "text": [
      "100%|██████████| 5/5 [00:09<00:00,  1.90s/it]\n"
     ]
    }
   ],
   "source": [
    "from tqdm import tqdm\n",
    "eval_scenes = []\n",
    "\n",
    "for i in tqdm(range(1,6)):\n",
    "    \n",
    "    eval_scenes_sample_probs = None\n",
    "\n",
    "    eval_data_path = os.path.join(data_dir, eval_data_dict.format(i))\n",
    "    with open(eval_data_path, 'rb') as f:\n",
    "        eval_env = dill.load(f, encoding='latin1')\n",
    "        eval_scenes+= eval_env.scenes\n",
    "\n",
    "eval_env.scenes = eval_scenes\n",
    "eval_scenes_sample_probs = None\n"
   ]
  },
  {
   "cell_type": "code",
   "execution_count": null,
   "id": "24ff42ab",
   "metadata": {},
   "outputs": [],
   "source": []
  },
  {
   "cell_type": "code",
   "execution_count": 53,
   "id": "662d930b",
   "metadata": {},
   "outputs": [
    {
     "data": {
      "text/plain": [
       "5185"
      ]
     },
     "execution_count": 53,
     "metadata": {},
     "output_type": "execute_result"
    }
   ],
   "source": [
    "len(eval_scenes)"
   ]
  },
  {
   "cell_type": "code",
   "execution_count": 59,
   "id": "d135a845",
   "metadata": {},
   "outputs": [],
   "source": [
    "scene = eval_scenes[0]"
   ]
  },
  {
   "cell_type": "code",
   "execution_count": 60,
   "id": "89019088",
   "metadata": {},
   "outputs": [
    {
     "data": {
      "text/plain": [
       "['__class__',\n",
       " '__delattr__',\n",
       " '__dict__',\n",
       " '__dir__',\n",
       " '__doc__',\n",
       " '__eq__',\n",
       " '__format__',\n",
       " '__ge__',\n",
       " '__getattribute__',\n",
       " '__gt__',\n",
       " '__hash__',\n",
       " '__init__',\n",
       " '__init_subclass__',\n",
       " '__le__',\n",
       " '__lt__',\n",
       " '__module__',\n",
       " '__ne__',\n",
       " '__new__',\n",
       " '__reduce__',\n",
       " '__reduce_ex__',\n",
       " '__repr__',\n",
       " '__setattr__',\n",
       " '__sizeof__',\n",
       " '__str__',\n",
       " '__subclasshook__',\n",
       " '__weakref__',\n",
       " 'add_robot_from_nodes',\n",
       " 'aug_func',\n",
       " 'augment',\n",
       " 'calculate_scene_graph',\n",
       " 'description',\n",
       " 'dt',\n",
       " 'duration',\n",
       " 'frequency_multiplier',\n",
       " 'get_clipped_input_dict',\n",
       " 'get_node_by_id',\n",
       " 'get_nodes_clipped_at_time',\n",
       " 'get_scene_graph',\n",
       " 'map',\n",
       " 'name',\n",
       " 'nodes',\n",
       " 'non_aug_scene',\n",
       " 'present_nodes',\n",
       " 'robot',\n",
       " 'sample_timesteps',\n",
       " 'temporal_scene_graph',\n",
       " 'timesteps']"
      ]
     },
     "execution_count": 60,
     "metadata": {},
     "output_type": "execute_result"
    }
   ],
   "source": [
    "dir(scene)"
   ]
  },
  {
   "cell_type": "code",
   "execution_count": 61,
   "id": "2e52693e",
   "metadata": {},
   "outputs": [
    {
     "data": {
      "text/plain": [
       "'61d3a2e0-54c9-4551-a93a-9a5f6b9a8491'"
      ]
     },
     "execution_count": 61,
     "metadata": {},
     "output_type": "execute_result"
    }
   ],
   "source": [
    "scene.name"
   ]
  },
  {
   "cell_type": "code",
   "execution_count": null,
   "id": "19f802a2",
   "metadata": {},
   "outputs": [],
   "source": []
  },
  {
   "cell_type": "code",
   "execution_count": 39,
   "id": "7442013c",
   "metadata": {},
   "outputs": [
    {
     "data": {
      "text/plain": [
       "59"
      ]
     },
     "execution_count": 39,
     "metadata": {},
     "output_type": "execute_result"
    }
   ],
   "source": [
    "hyperparams['prediction_horizon']"
   ]
  },
  {
   "cell_type": "code",
   "execution_count": 32,
   "id": "f0591211",
   "metadata": {},
   "outputs": [
    {
     "name": "stdout",
     "output_type": "stream",
     "text": [
      "<model.dataset.dataset.NodeTypeDataset object at 0x7f6ef19c65f8>\n",
      "<model.dataset.dataset.NodeTypeDataset object at 0x7f6ef19c6668>\n"
     ]
    }
   ],
   "source": [
    "for node_type_data_set in eval_dataset:\n",
    "    print(node_type_data_set)\n"
   ]
  },
  {
   "cell_type": "code",
   "execution_count": 54,
   "id": "616e1e50",
   "metadata": {},
   "outputs": [
    {
     "name": "stdout",
     "output_type": "stream",
     "text": [
      "PEDESTRIAN 9865\n",
      "VEHICLE 292055\n",
      "Loaded evaluation data from /data/jedrzej/argo2city/processed/val/argo2city_austin_1.pkl\n"
     ]
    }
   ],
   "source": [
    "eval_dataset = EnvironmentDataset(eval_env,\n",
    "                                  hyperparams['state'],\n",
    "                                  hyperparams['pred_state'],\n",
    "                                  scene_freq_mult=False,\n",
    "                                  node_freq_mult=False,\n",
    "                                  hyperparams=hyperparams,\n",
    "                                  min_history_timesteps=hyperparams['minimum_history_length'],\n",
    "                                  min_future_timesteps=hyperparams['prediction_horizon'],\n",
    "                                  return_robot=True)\n",
    "eval_data_loader = dict()\n",
    "\n",
    "for node_type_data_set in eval_dataset:\n",
    "    print(node_type_data_set.node_type,len(node_type_data_set))\n",
    "    #print(node_type_data_set[0])\n",
    "\n",
    "    if len(node_type_data_set) == 0:\n",
    "        continue\n",
    "\n",
    "    node_type_dataloader = utils.data.DataLoader(node_type_data_set,\n",
    "                                                 collate_fn=collate,\n",
    "                                                 pin_memory=True,\n",
    "                                                 batch_size=256,\n",
    "                                                 shuffle=True,\n",
    "                                                 num_workers=10)\n",
    "    eval_data_loader[node_type_data_set.node_type] = node_type_dataloader\n",
    "\n",
    "print(f\"Loaded evaluation data from {eval_data_path}\")"
   ]
  },
  {
   "cell_type": "code",
   "execution_count": 58,
   "id": "cb51ff20",
   "metadata": {},
   "outputs": [
    {
     "ename": "PermissionError",
     "evalue": "[Errno 13] Permission denied: '../experiments/argo2/models/models_austin_test_small/events.out.tfevents.1645262320.south'",
     "output_type": "error",
     "traceback": [
      "\u001b[0;31m---------------------------------------------------------------------------\u001b[0m",
      "\u001b[0;31mKeyError\u001b[0m                                  Traceback (most recent call last)",
      "\u001b[0;32m~/miniconda3/envs/trajectron++/lib/python3.6/site-packages/tensorboardX/record_writer.py\u001b[0m in \u001b[0;36mopen_file\u001b[0;34m(path)\u001b[0m\n\u001b[1;32m     50\u001b[0m         \u001b[0mprefix\u001b[0m \u001b[0;34m=\u001b[0m \u001b[0mpath\u001b[0m\u001b[0;34m.\u001b[0m\u001b[0msplit\u001b[0m\u001b[0;34m(\u001b[0m\u001b[0;34m':'\u001b[0m\u001b[0;34m)\u001b[0m\u001b[0;34m[\u001b[0m\u001b[0;36m0\u001b[0m\u001b[0;34m]\u001b[0m\u001b[0;34m\u001b[0m\u001b[0;34m\u001b[0m\u001b[0m\n\u001b[0;32m---> 51\u001b[0;31m         \u001b[0mfactory\u001b[0m \u001b[0;34m=\u001b[0m \u001b[0mREGISTERED_FACTORIES\u001b[0m\u001b[0;34m[\u001b[0m\u001b[0mprefix\u001b[0m\u001b[0;34m]\u001b[0m\u001b[0;34m\u001b[0m\u001b[0;34m\u001b[0m\u001b[0m\n\u001b[0m\u001b[1;32m     52\u001b[0m         \u001b[0;32mreturn\u001b[0m \u001b[0mfactory\u001b[0m\u001b[0;34m.\u001b[0m\u001b[0mopen\u001b[0m\u001b[0;34m(\u001b[0m\u001b[0mpath\u001b[0m\u001b[0;34m)\u001b[0m\u001b[0;34m\u001b[0m\u001b[0;34m\u001b[0m\u001b[0m\n",
      "\u001b[0;31mKeyError\u001b[0m: '../experiments/argo2/models/models_austin_test_small/events.out.tfevents.1645262320.south'",
      "\nDuring handling of the above exception, another exception occurred:\n",
      "\u001b[0;31mPermissionError\u001b[0m                           Traceback (most recent call last)",
      "\u001b[0;32m<ipython-input-58-453045098f0a>\u001b[0m in \u001b[0;36m<module>\u001b[0;34m\u001b[0m\n\u001b[1;32m      2\u001b[0m \u001b[0mdevice\u001b[0m \u001b[0;34m=\u001b[0m \u001b[0;34m'cuda'\u001b[0m\u001b[0;34m\u001b[0m\u001b[0;34m\u001b[0m\u001b[0m\n\u001b[1;32m      3\u001b[0m \u001b[0;34m\u001b[0m\u001b[0m\n\u001b[0;32m----> 4\u001b[0;31m \u001b[0mlog_writer\u001b[0m \u001b[0;34m=\u001b[0m \u001b[0mSummaryWriter\u001b[0m\u001b[0;34m(\u001b[0m\u001b[0mlog_dir\u001b[0m\u001b[0;34m=\u001b[0m\u001b[0mmodel_dir\u001b[0m\u001b[0;34m)\u001b[0m\u001b[0;34m\u001b[0m\u001b[0;34m\u001b[0m\u001b[0m\n\u001b[0m\u001b[1;32m      5\u001b[0m \u001b[0;34m\u001b[0m\u001b[0m\n\u001b[1;32m      6\u001b[0m \u001b[0mmodel_registrar\u001b[0m \u001b[0;34m=\u001b[0m \u001b[0mModelRegistrar\u001b[0m\u001b[0;34m(\u001b[0m\u001b[0mmodel_dir\u001b[0m\u001b[0;34m,\u001b[0m \u001b[0mdevice\u001b[0m\u001b[0;34m)\u001b[0m \u001b[0;31m#args.device\u001b[0m\u001b[0;34m\u001b[0m\u001b[0;34m\u001b[0m\u001b[0m\n",
      "\u001b[0;32m~/miniconda3/envs/trajectron++/lib/python3.6/site-packages/tensorboardX/writer.py\u001b[0m in \u001b[0;36m__init__\u001b[0;34m(self, logdir, comment, purge_step, max_queue, flush_secs, filename_suffix, write_to_disk, log_dir, **kwargs)\u001b[0m\n\u001b[1;32m    255\u001b[0m         \u001b[0;31m# and recreated later as needed.\u001b[0m\u001b[0;34m\u001b[0m\u001b[0;34m\u001b[0m\u001b[0;34m\u001b[0m\u001b[0m\n\u001b[1;32m    256\u001b[0m         \u001b[0mself\u001b[0m\u001b[0;34m.\u001b[0m\u001b[0mfile_writer\u001b[0m \u001b[0;34m=\u001b[0m \u001b[0mself\u001b[0m\u001b[0;34m.\u001b[0m\u001b[0mall_writers\u001b[0m \u001b[0;34m=\u001b[0m \u001b[0;32mNone\u001b[0m\u001b[0;34m\u001b[0m\u001b[0;34m\u001b[0m\u001b[0m\n\u001b[0;32m--> 257\u001b[0;31m         \u001b[0mself\u001b[0m\u001b[0;34m.\u001b[0m\u001b[0m_get_file_writer\u001b[0m\u001b[0;34m(\u001b[0m\u001b[0;34m)\u001b[0m\u001b[0;34m\u001b[0m\u001b[0;34m\u001b[0m\u001b[0m\n\u001b[0m\u001b[1;32m    258\u001b[0m \u001b[0;34m\u001b[0m\u001b[0m\n\u001b[1;32m    259\u001b[0m         \u001b[0;31m# Create default bins for histograms, see generate_testdata.py in tensorflow/tensorboard\u001b[0m\u001b[0;34m\u001b[0m\u001b[0;34m\u001b[0m\u001b[0;34m\u001b[0m\u001b[0m\n",
      "\u001b[0;32m~/miniconda3/envs/trajectron++/lib/python3.6/site-packages/tensorboardX/writer.py\u001b[0m in \u001b[0;36m_get_file_writer\u001b[0;34m(self)\u001b[0m\n\u001b[1;32m    319\u001b[0m                                               \u001b[0mflush_secs\u001b[0m\u001b[0;34m=\u001b[0m\u001b[0mself\u001b[0m\u001b[0;34m.\u001b[0m\u001b[0m_flush_secs\u001b[0m\u001b[0;34m,\u001b[0m\u001b[0;34m\u001b[0m\u001b[0;34m\u001b[0m\u001b[0m\n\u001b[1;32m    320\u001b[0m                                               \u001b[0mfilename_suffix\u001b[0m\u001b[0;34m=\u001b[0m\u001b[0mself\u001b[0m\u001b[0;34m.\u001b[0m\u001b[0m_filename_suffix\u001b[0m\u001b[0;34m,\u001b[0m\u001b[0;34m\u001b[0m\u001b[0;34m\u001b[0m\u001b[0m\n\u001b[0;32m--> 321\u001b[0;31m                                               **self.kwargs)\n\u001b[0m\u001b[1;32m    322\u001b[0m             \u001b[0mself\u001b[0m\u001b[0;34m.\u001b[0m\u001b[0mall_writers\u001b[0m \u001b[0;34m=\u001b[0m \u001b[0;34m{\u001b[0m\u001b[0mself\u001b[0m\u001b[0;34m.\u001b[0m\u001b[0mfile_writer\u001b[0m\u001b[0;34m.\u001b[0m\u001b[0mget_logdir\u001b[0m\u001b[0;34m(\u001b[0m\u001b[0;34m)\u001b[0m\u001b[0;34m:\u001b[0m \u001b[0mself\u001b[0m\u001b[0;34m.\u001b[0m\u001b[0mfile_writer\u001b[0m\u001b[0;34m}\u001b[0m\u001b[0;34m\u001b[0m\u001b[0;34m\u001b[0m\u001b[0m\n\u001b[1;32m    323\u001b[0m         \u001b[0;32mreturn\u001b[0m \u001b[0mself\u001b[0m\u001b[0;34m.\u001b[0m\u001b[0mfile_writer\u001b[0m\u001b[0;34m\u001b[0m\u001b[0;34m\u001b[0m\u001b[0m\n",
      "\u001b[0;32m~/miniconda3/envs/trajectron++/lib/python3.6/site-packages/tensorboardX/writer.py\u001b[0m in \u001b[0;36m__init__\u001b[0;34m(self, logdir, max_queue, flush_secs, filename_suffix)\u001b[0m\n\u001b[1;32m     91\u001b[0m         \u001b[0mlogdir\u001b[0m \u001b[0;34m=\u001b[0m \u001b[0mstr\u001b[0m\u001b[0;34m(\u001b[0m\u001b[0mlogdir\u001b[0m\u001b[0;34m)\u001b[0m\u001b[0;34m\u001b[0m\u001b[0;34m\u001b[0m\u001b[0m\n\u001b[1;32m     92\u001b[0m         self.event_writer = EventFileWriter(\n\u001b[0;32m---> 93\u001b[0;31m             logdir, max_queue, flush_secs, filename_suffix)\n\u001b[0m\u001b[1;32m     94\u001b[0m \u001b[0;34m\u001b[0m\u001b[0m\n\u001b[1;32m     95\u001b[0m     \u001b[0;32mdef\u001b[0m \u001b[0mget_logdir\u001b[0m\u001b[0;34m(\u001b[0m\u001b[0mself\u001b[0m\u001b[0;34m)\u001b[0m\u001b[0;34m:\u001b[0m\u001b[0;34m\u001b[0m\u001b[0;34m\u001b[0m\u001b[0m\n",
      "\u001b[0;32m~/miniconda3/envs/trajectron++/lib/python3.6/site-packages/tensorboardX/event_file_writer.py\u001b[0m in \u001b[0;36m__init__\u001b[0;34m(self, logdir, max_queue_size, flush_secs, filename_suffix)\u001b[0m\n\u001b[1;32m    105\u001b[0m         \u001b[0mself\u001b[0m\u001b[0;34m.\u001b[0m\u001b[0m_event_queue\u001b[0m \u001b[0;34m=\u001b[0m \u001b[0msix\u001b[0m\u001b[0;34m.\u001b[0m\u001b[0mmoves\u001b[0m\u001b[0;34m.\u001b[0m\u001b[0mqueue\u001b[0m\u001b[0;34m.\u001b[0m\u001b[0mQueue\u001b[0m\u001b[0;34m(\u001b[0m\u001b[0mmax_queue_size\u001b[0m\u001b[0;34m)\u001b[0m\u001b[0;34m\u001b[0m\u001b[0;34m\u001b[0m\u001b[0m\n\u001b[1;32m    106\u001b[0m         self._ev_writer = EventsWriter(os.path.join(\n\u001b[0;32m--> 107\u001b[0;31m             self._logdir, \"events\"), filename_suffix)\n\u001b[0m\u001b[1;32m    108\u001b[0m         \u001b[0mself\u001b[0m\u001b[0;34m.\u001b[0m\u001b[0m_flush_secs\u001b[0m \u001b[0;34m=\u001b[0m \u001b[0mflush_secs\u001b[0m\u001b[0;34m\u001b[0m\u001b[0;34m\u001b[0m\u001b[0m\n\u001b[1;32m    109\u001b[0m         \u001b[0mself\u001b[0m\u001b[0;34m.\u001b[0m\u001b[0m_closed\u001b[0m \u001b[0;34m=\u001b[0m \u001b[0;32mFalse\u001b[0m\u001b[0;34m\u001b[0m\u001b[0;34m\u001b[0m\u001b[0m\n",
      "\u001b[0;32m~/miniconda3/envs/trajectron++/lib/python3.6/site-packages/tensorboardX/event_file_writer.py\u001b[0m in \u001b[0;36m__init__\u001b[0;34m(self, file_prefix, filename_suffix)\u001b[0m\n\u001b[1;32m     41\u001b[0m             \u001b[0msocket\u001b[0m\u001b[0;34m.\u001b[0m\u001b[0mgethostname\u001b[0m\u001b[0;34m(\u001b[0m\u001b[0;34m)\u001b[0m \u001b[0;34m+\u001b[0m \u001b[0mfilename_suffix\u001b[0m\u001b[0;34m\u001b[0m\u001b[0;34m\u001b[0m\u001b[0m\n\u001b[1;32m     42\u001b[0m         \u001b[0mself\u001b[0m\u001b[0;34m.\u001b[0m\u001b[0m_num_outstanding_events\u001b[0m \u001b[0;34m=\u001b[0m \u001b[0;36m0\u001b[0m\u001b[0;34m\u001b[0m\u001b[0;34m\u001b[0m\u001b[0m\n\u001b[0;32m---> 43\u001b[0;31m         \u001b[0mself\u001b[0m\u001b[0;34m.\u001b[0m\u001b[0m_py_recordio_writer\u001b[0m \u001b[0;34m=\u001b[0m \u001b[0mRecordWriter\u001b[0m\u001b[0;34m(\u001b[0m\u001b[0mself\u001b[0m\u001b[0;34m.\u001b[0m\u001b[0m_file_name\u001b[0m\u001b[0;34m)\u001b[0m\u001b[0;34m\u001b[0m\u001b[0;34m\u001b[0m\u001b[0m\n\u001b[0m\u001b[1;32m     44\u001b[0m         \u001b[0;31m# Initialize an event instance.\u001b[0m\u001b[0;34m\u001b[0m\u001b[0;34m\u001b[0m\u001b[0;34m\u001b[0m\u001b[0m\n\u001b[1;32m     45\u001b[0m         \u001b[0mself\u001b[0m\u001b[0;34m.\u001b[0m\u001b[0m_event\u001b[0m \u001b[0;34m=\u001b[0m \u001b[0mevent_pb2\u001b[0m\u001b[0;34m.\u001b[0m\u001b[0mEvent\u001b[0m\u001b[0;34m(\u001b[0m\u001b[0;34m)\u001b[0m\u001b[0;34m\u001b[0m\u001b[0;34m\u001b[0m\u001b[0m\n",
      "\u001b[0;32m~/miniconda3/envs/trajectron++/lib/python3.6/site-packages/tensorboardX/record_writer.py\u001b[0m in \u001b[0;36m__init__\u001b[0;34m(self, path)\u001b[0m\n\u001b[1;32m    111\u001b[0m         \u001b[0mself\u001b[0m\u001b[0;34m.\u001b[0m\u001b[0mpath\u001b[0m \u001b[0;34m=\u001b[0m \u001b[0mpath\u001b[0m\u001b[0;34m\u001b[0m\u001b[0;34m\u001b[0m\u001b[0m\n\u001b[1;32m    112\u001b[0m         \u001b[0mself\u001b[0m\u001b[0;34m.\u001b[0m\u001b[0m_writer\u001b[0m \u001b[0;34m=\u001b[0m \u001b[0;32mNone\u001b[0m\u001b[0;34m\u001b[0m\u001b[0;34m\u001b[0m\u001b[0m\n\u001b[0;32m--> 113\u001b[0;31m         \u001b[0mself\u001b[0m\u001b[0;34m.\u001b[0m\u001b[0m_writer\u001b[0m \u001b[0;34m=\u001b[0m \u001b[0mopen_file\u001b[0m\u001b[0;34m(\u001b[0m\u001b[0mpath\u001b[0m\u001b[0;34m)\u001b[0m\u001b[0;34m\u001b[0m\u001b[0;34m\u001b[0m\u001b[0m\n\u001b[0m\u001b[1;32m    114\u001b[0m \u001b[0;34m\u001b[0m\u001b[0m\n\u001b[1;32m    115\u001b[0m     \u001b[0;32mdef\u001b[0m \u001b[0mwrite\u001b[0m\u001b[0;34m(\u001b[0m\u001b[0mself\u001b[0m\u001b[0;34m,\u001b[0m \u001b[0mdata\u001b[0m\u001b[0;34m)\u001b[0m\u001b[0;34m:\u001b[0m\u001b[0;34m\u001b[0m\u001b[0;34m\u001b[0m\u001b[0m\n",
      "\u001b[0;32m~/miniconda3/envs/trajectron++/lib/python3.6/site-packages/tensorboardX/record_writer.py\u001b[0m in \u001b[0;36mopen_file\u001b[0;34m(path)\u001b[0m\n\u001b[1;32m     52\u001b[0m         \u001b[0;32mreturn\u001b[0m \u001b[0mfactory\u001b[0m\u001b[0;34m.\u001b[0m\u001b[0mopen\u001b[0m\u001b[0;34m(\u001b[0m\u001b[0mpath\u001b[0m\u001b[0;34m)\u001b[0m\u001b[0;34m\u001b[0m\u001b[0;34m\u001b[0m\u001b[0m\n\u001b[1;32m     53\u001b[0m     \u001b[0;32mexcept\u001b[0m \u001b[0mKeyError\u001b[0m\u001b[0;34m:\u001b[0m\u001b[0;34m\u001b[0m\u001b[0;34m\u001b[0m\u001b[0m\n\u001b[0;32m---> 54\u001b[0;31m         \u001b[0;32mreturn\u001b[0m \u001b[0mopen\u001b[0m\u001b[0;34m(\u001b[0m\u001b[0mpath\u001b[0m\u001b[0;34m,\u001b[0m \u001b[0;34m'wb'\u001b[0m\u001b[0;34m)\u001b[0m\u001b[0;34m\u001b[0m\u001b[0;34m\u001b[0m\u001b[0m\n\u001b[0m\u001b[1;32m     55\u001b[0m \u001b[0;34m\u001b[0m\u001b[0m\n\u001b[1;32m     56\u001b[0m \u001b[0;34m\u001b[0m\u001b[0m\n",
      "\u001b[0;31mPermissionError\u001b[0m: [Errno 13] Permission denied: '../experiments/argo2/models/models_austin_test_small/events.out.tfevents.1645262320.south'"
     ]
    }
   ],
   "source": [
    "model_dir = '../experiments/argo2/models/models_austin_test_small'\n",
    "device = 'cuda'\n",
    "\n",
    "log_writer = SummaryWriter(log_dir=model_dir)\n",
    "\n",
    "model_registrar = ModelRegistrar(model_dir, device) #args.device\n",
    "\n",
    "model_registrar.load_models(iter_num=17)\n",
    "\n",
    "eval_trajectron = Trajectron(model_registrar,\n",
    "                                 hyperparams,\n",
    "                                 log_writer,\n",
    "                                 device)\n",
    "eval_trajectron.set_environment(eval_env)"
   ]
  },
  {
   "cell_type": "code",
   "execution_count": 57,
   "id": "76eee3e4",
   "metadata": {},
   "outputs": [
    {
     "ename": "NameError",
     "evalue": "name 'model_registrar' is not defined",
     "output_type": "error",
     "traceback": [
      "\u001b[0;31m---------------------------------------------------------------------------\u001b[0m",
      "\u001b[0;31mNameError\u001b[0m                                 Traceback (most recent call last)",
      "\u001b[0;32m<ipython-input-57-5fdf748bb4b6>\u001b[0m in \u001b[0;36m<module>\u001b[0;34m\u001b[0m\n\u001b[1;32m      1\u001b[0m \u001b[0mmax_hl\u001b[0m \u001b[0;34m=\u001b[0m \u001b[0mhyperparams\u001b[0m\u001b[0;34m[\u001b[0m\u001b[0;34m'maximum_history_length'\u001b[0m\u001b[0;34m]\u001b[0m\u001b[0;34m\u001b[0m\u001b[0;34m\u001b[0m\u001b[0m\n\u001b[1;32m      2\u001b[0m \u001b[0mph\u001b[0m \u001b[0;34m=\u001b[0m \u001b[0mhyperparams\u001b[0m\u001b[0;34m[\u001b[0m\u001b[0;34m'prediction_horizon'\u001b[0m\u001b[0;34m]\u001b[0m\u001b[0;34m\u001b[0m\u001b[0;34m\u001b[0m\u001b[0m\n\u001b[0;32m----> 3\u001b[0;31m \u001b[0mmodel_registrar\u001b[0m\u001b[0;34m.\u001b[0m\u001b[0mto\u001b[0m\u001b[0;34m(\u001b[0m\u001b[0margs\u001b[0m\u001b[0;34m.\u001b[0m\u001b[0meval_device\u001b[0m\u001b[0;34m)\u001b[0m\u001b[0;34m\u001b[0m\u001b[0;34m\u001b[0m\u001b[0m\n\u001b[0m\u001b[1;32m      4\u001b[0m \u001b[0;32mwith\u001b[0m \u001b[0mtorch\u001b[0m\u001b[0;34m.\u001b[0m\u001b[0mno_grad\u001b[0m\u001b[0;34m(\u001b[0m\u001b[0;34m)\u001b[0m\u001b[0;34m:\u001b[0m\u001b[0;34m\u001b[0m\u001b[0;34m\u001b[0m\u001b[0m\n\u001b[1;32m      5\u001b[0m     \u001b[0;31m# Predict batch timesteps for evaluation dataset evaluation\u001b[0m\u001b[0;34m\u001b[0m\u001b[0;34m\u001b[0m\u001b[0;34m\u001b[0m\u001b[0m\n",
      "\u001b[0;31mNameError\u001b[0m: name 'model_registrar' is not defined"
     ]
    }
   ],
   "source": [
    "max_hl = hyperparams['maximum_history_length']\n",
    "ph = hyperparams['prediction_horizon']\n",
    "model_registrar.to(args.eval_device)\n",
    "with torch.no_grad():\n",
    "    # Predict batch timesteps for evaluation dataset evaluation\n",
    "    eval_batch_errors = []\n",
    "    for scene in tqdm(eval_scenes, desc='Sample Evaluation', ncols=80):\n",
    "        timesteps = scene.sample_timesteps(args.eval_batch_size)\n",
    "\n",
    "        predictions = eval_trajectron.predict(scene,\n",
    "                                              timesteps,\n",
    "                                              ph,\n",
    "                                              num_samples=50,\n",
    "                                              min_future_timesteps=ph,\n",
    "                                              full_dist=False)\n",
    "\n",
    "        eval_batch_errors.append(evaluation.compute_batch_statistics(predictions,\n",
    "                                                                     scene.dt,\n",
    "                                                                     max_hl=max_hl,\n",
    "                                                                     ph=ph,\n",
    "                                                                     node_type_enum=eval_env.NodeType,\n",
    "                                                                     map=scene.map))\n",
    "\n",
    "        print(eval_batch_errors)\n",
    "        break"
   ]
  },
  {
   "cell_type": "code",
   "execution_count": null,
   "id": "d4545351",
   "metadata": {},
   "outputs": [],
   "source": []
  }
 ],
 "metadata": {
  "kernelspec": {
   "display_name": "trajectron",
   "language": "python",
   "name": "trajectron"
  },
  "language_info": {
   "codemirror_mode": {
    "name": "ipython",
    "version": 3
   },
   "file_extension": ".py",
   "mimetype": "text/x-python",
   "name": "python",
   "nbconvert_exporter": "python",
   "pygments_lexer": "ipython3",
   "version": "3.6.13"
  }
 },
 "nbformat": 4,
 "nbformat_minor": 5
}
